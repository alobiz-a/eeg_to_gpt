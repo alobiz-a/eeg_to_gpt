{
 "cells": [
  {
   "cell_type": "markdown",
   "metadata": {},
   "source": [
    "## Testing the Python API"
   ]
  },
  {
   "cell_type": "code",
   "execution_count": 5,
   "metadata": {},
   "outputs": [],
   "source": [
    "import UnicornPy\n",
    "import numpy as np"
   ]
  },
  {
   "cell_type": "code",
   "execution_count": 2,
   "metadata": {},
   "outputs": [
    {
     "data": {
      "text/plain": [
       "4.0"
      ]
     },
     "execution_count": 2,
     "metadata": {},
     "output_type": "execute_result"
    }
   ],
   "source": [
    "UnicornPy.GetApiVersion()"
   ]
  },
  {
   "cell_type": "code",
   "execution_count": 6,
   "metadata": {},
   "outputs": [
    {
     "name": "stdout",
     "output_type": "stream",
     "text": [
      "Unicorn Acquisition Example\n",
      "---------------------------\n",
      "\n"
     ]
    }
   ],
   "source": [
    "# Specifications for the data acquisition.\n",
    "#-------------------------------------------------------------------------------------\n",
    "TestsignaleEnabled = False;\n",
    "FrameLength = 1;\n",
    "AcquisitionDurationInSeconds = 10;\n",
    "DataFile = \"data.csv\";\n",
    "#-------------------------------------------------------------------------------------"
   ]
  },
  {
   "cell_type": "code",
   "execution_count": 12,
   "metadata": {},
   "outputs": [
    {
     "ename": "Exception",
     "evalue": "No device available.Please pair with a Unicorn first.",
     "output_type": "error",
     "traceback": [
      "\u001b[1;31m---------------------------------------------------------------------------\u001b[0m",
      "\u001b[1;31mException\u001b[0m                                 Traceback (most recent call last)",
      "\u001b[1;32mc:\\Hackathons\\Brain\\Brain_to_GPT\\python_api_nb.ipynb Cell 5\u001b[0m line \u001b[0;36m8\n\u001b[0;32m      <a href='vscode-notebook-cell:/c%3A/Hackathons/Brain/Brain_to_GPT/python_api_nb.ipynb#W5sZmlsZQ%3D%3D?line=4'>5</a>\u001b[0m deviceList \u001b[39m=\u001b[39m UnicornPy\u001b[39m.\u001b[39mGetAvailableDevices(\u001b[39mTrue\u001b[39;00m)\n\u001b[0;32m      <a href='vscode-notebook-cell:/c%3A/Hackathons/Brain/Brain_to_GPT/python_api_nb.ipynb#W5sZmlsZQ%3D%3D?line=6'>7</a>\u001b[0m \u001b[39mif\u001b[39;00m \u001b[39mlen\u001b[39m(deviceList) \u001b[39m<\u001b[39m\u001b[39m=\u001b[39m \u001b[39m0\u001b[39m \u001b[39mor\u001b[39;00m deviceList \u001b[39mis\u001b[39;00m \u001b[39mNone\u001b[39;00m:\n\u001b[1;32m----> <a href='vscode-notebook-cell:/c%3A/Hackathons/Brain/Brain_to_GPT/python_api_nb.ipynb#W5sZmlsZQ%3D%3D?line=7'>8</a>\u001b[0m     \u001b[39mraise\u001b[39;00m \u001b[39mException\u001b[39;00m(\u001b[39m\"\u001b[39m\u001b[39mNo device available.Please pair with a Unicorn first.\u001b[39m\u001b[39m\"\u001b[39m)\n\u001b[0;32m     <a href='vscode-notebook-cell:/c%3A/Hackathons/Brain/Brain_to_GPT/python_api_nb.ipynb#W5sZmlsZQ%3D%3D?line=9'>10</a>\u001b[0m \u001b[39m# Print available device serials.\u001b[39;00m\n\u001b[0;32m     <a href='vscode-notebook-cell:/c%3A/Hackathons/Brain/Brain_to_GPT/python_api_nb.ipynb#W5sZmlsZQ%3D%3D?line=10'>11</a>\u001b[0m \u001b[39mprint\u001b[39m(\u001b[39m\"\u001b[39m\u001b[39mAvailable devices:\u001b[39m\u001b[39m\"\u001b[39m)\n",
      "\u001b[1;31mException\u001b[0m: No device available.Please pair with a Unicorn first."
     ]
    }
   ],
   "source": [
    "\n",
    "# Get available devices.\n",
    "#-------------------------------------------------------------------------------------\n",
    "\n",
    "# Get available device serials.\n",
    "deviceList = UnicornPy.GetAvailableDevices(True)\n",
    "\n",
    "if len(deviceList) <= 0 or deviceList is None:\n",
    "    raise Exception(\"No device available.Please pair with a Unicorn first.\")\n",
    "\n",
    "# Print available device serials.\n",
    "print(\"Available devices:\")\n",
    "i = 0\n",
    "for device in deviceList:\n",
    "    print(\"#%i %s\" % (i,device))\n",
    "    i+=1"
   ]
  },
  {
   "cell_type": "code",
   "execution_count": null,
   "metadata": {},
   "outputs": [],
   "source": []
  }
 ],
 "metadata": {
  "kernelspec": {
   "display_name": "brain_hack",
   "language": "python",
   "name": "python3"
  },
  "language_info": {
   "codemirror_mode": {
    "name": "ipython",
    "version": 3
   },
   "file_extension": ".py",
   "mimetype": "text/x-python",
   "name": "python",
   "nbconvert_exporter": "python",
   "pygments_lexer": "ipython3",
   "version": "3.11.5"
  },
  "orig_nbformat": 4
 },
 "nbformat": 4,
 "nbformat_minor": 2
}
